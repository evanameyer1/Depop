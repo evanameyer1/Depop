{
 "cells": [
  {
   "cell_type": "code",
   "execution_count": 1,
   "id": "478bd5af-8ba2-443d-9313-2d76048f3c0c",
   "metadata": {},
   "outputs": [],
   "source": [
    "import pandas as pd\n",
    "import re\n",
    "from re import match\n",
    "import requests\n",
    "import difflib\n",
    "import numpy as np\n",
    "import math\n",
    "from selenium import webdriver\n",
    "import time\n",
    "from selenium.common.exceptions import StaleElementReferenceException\n",
    "from selenium.webdriver.common.by import By\n",
    "from selenium.webdriver.common.action_chains import ActionChains\n",
    "import re"
   ]
  },
  {
   "cell_type": "markdown",
   "id": "e8cb144b-c4bd-49e6-9652-c0510e41a6d4",
   "metadata": {},
   "source": [
    "1. Go to depop account website\n",
    "2. Max click load more to gather all the items\n",
    "3. Click on each item\n",
    "4. Set local variables each to things and add them to the df"
   ]
  },
  {
   "cell_type": "code",
   "execution_count": 2,
   "id": "cee86949-a4e4-4c8d-b0bf-5d0d8e462466",
   "metadata": {},
   "outputs": [],
   "source": [
    "account = 'https://www.depop.com/binsbundles/'\n",
    "login = 'https://www.depop.com/login/'\n",
    "username = 'Binsbundles'\n",
    "password = 'Tchin1234'"
   ]
  },
  {
   "cell_type": "code",
   "execution_count": 9,
   "id": "d0c7b760-5c49-4207-a321-359421768330",
   "metadata": {},
   "outputs": [],
   "source": [
    "#account for cookies popup button\n",
    "def accept_cookies(driver):\n",
    "    print('accept_cookies started')\n",
    "    driver.find_element(By.XPATH, '//*[@id=\"__next\"]/div/div[2]/div[2]/button[2]').click()"
   ]
  },
  {
   "cell_type": "code",
   "execution_count": 10,
   "id": "acb6591e-db5a-499e-9983-cbd28714898d",
   "metadata": {},
   "outputs": [],
   "source": [
    "#max click load more button to gather all the items   \n",
    "def load_more(driver):\n",
    "    print('load_more started')\n",
    "    while True:\n",
    "        try: \n",
    "            if driver.find_element(By.XPATH, '//*[@id=\"products-tab\"]/div/div/button'):\n",
    "                driver.execute_script(\"window.scrollTo(0,document.body.scrollHeight)\")\n",
    "                load_more = driver.find_element(By.XPATH, '//*[@id=\"products-tab\"]/div/div/button')\n",
    "                actions = ActionChains(driver)\n",
    "                actions.move_to_element(load_more).click().perform()\n",
    "                driver.implicitly_wait(1)\n",
    "        except:\n",
    "            links = gather_links(driver)\n",
    "            break\n",
    "    return links"
   ]
  },
  {
   "cell_type": "code",
   "execution_count": 11,
   "id": "1cd4d195-cf0f-4f0a-adfd-897b6ac7440c",
   "metadata": {},
   "outputs": [],
   "source": [
    "#grab all of the links of the items\n",
    "def gather_links(driver):\n",
    "    print('gather_links started')\n",
    "    links = []\n",
    "    count = 1\n",
    "    while True:\n",
    "        if driver.find_element(By.CSS_SELECTOR, f\"#products-tab > div > ul > li:nth-child({count}) > div > a\"):\n",
    "            link = driver.find_element(By.CSS_SELECTOR, f\"#products-tab > div > ul > li:nth-child({count}) > div > a\")\n",
    "            links.append(link.get_attribute(\"href\"))\n",
    "            count += 1\n",
    "        else:\n",
    "            break\n",
    "    return links"
   ]
  },
  {
   "cell_type": "code",
   "execution_count": 1,
   "id": "90c50bd7-7f76-4055-a479-bd65cb3440a6",
   "metadata": {
    "tags": []
   },
   "outputs": [],
   "source": [
    "#log into depop account to access data on sold items\n",
    "def login_account(driver):\n",
    "    driver = webdriver.Chrome(executable_path=\"path\")\n",
    "    driver.maximize_window()\n",
    "    driver.implicitly_wait(10)\n",
    "    driver.get('https://www.depop.com/sellinghub/sold-items/')\n",
    "    driver.find_element(By.XPATH, '//*[@id=\"__next\"]/div/div[3]/div[2]/button[2]').click()\n",
    "    print('Cookies accepted')\n",
    "\n",
    "    driver.find_element(By.CSS_SELECTOR, \"#__next > div > div > div > div > h1 > a\").click()\n",
    "\n",
    "    driver.find_element(By.CSS_SELECTOR, \"#username\").send_keys(username)\n",
    "    print('Username inputed')\n",
    "    driver.find_element(By.CSS_SELECTOR, \"#password\").send_keys(password)\n",
    "    print('Password inputed')\n",
    "    driver.find_element(By.CSS_SELECTOR, \"#main > div:nth-child(6) > form > button\").click()\n",
    "    print('Logged In')\n",
    "\n",
    "    while True:\n",
    "        try: \n",
    "            if driver.find_element(By.CSS_SELECTOR, '#products-tab > div > div > button'):\n",
    "                driver.execute_script(\"window.scrollTo(0,document.body.scrollHeight)\")\n",
    "                load_more = driver.find_element(By.CSS_SELECTOR, '#products-tab > div > div > button')\n",
    "                actions = ActionChains(driver)\n",
    "                actions.move_to_element(load_more).click().perform()\n",
    "                driver.implicitly_wait(1)\n",
    "        except:\n",
    "            links = gather_links(driver)\n",
    "            break"
   ]
  },
  {
   "cell_type": "code",
   "execution_count": 5,
   "id": "47b794c2-89b3-45cb-9cfb-bd071af345c2",
   "metadata": {
    "tags": []
   },
   "outputs": [],
   "source": [
    "def gather_data(links):\n",
    "    final = []  \n",
    "    for link in links:\n",
    "        output = {}\n",
    "        driver.get(link)\n",
    "        name = driver.find_element(By.XPATH, name_loc).text\n",
    "        holder = ['Evan' if '*' in name else 'Sean'][0]\n",
    "        likes = driver.find_element(By.XPATH, likes_loc).text\n",
    "        likes = likes.split()[0]\n",
    "        original_price = driver.find_element(By.XPATH, price_loc).text\n",
    "        try:\n",
    "            updated_price = driver.find_element(By.XPATH, updated_price_loc).text\n",
    "        except:\n",
    "            updated_price = price\n",
    "\n",
    "        df = pd.read_html(link)[0].transpose()\n",
    "        df.columns = df.iloc[0]\n",
    "        df = df.tail(-1)\n",
    "\n",
    "        try:\n",
    "            size = df['Size'].values[0]\n",
    "        except:\n",
    "            size = ''\n",
    "        try:\n",
    "            brand = df['Brand'].values[0]\n",
    "        except:\n",
    "            brand = ''\n",
    "        try:\n",
    "            condition = df['Condition'].values[0]\n",
    "        except:\n",
    "            condition = ''\n",
    "        try:\n",
    "            style = df['Style'].values[0]\n",
    "        except:\n",
    "            style = ''\n",
    "\n",
    "        try:\n",
    "            if driver.find_element(By.XPATH, sold_loc):\n",
    "                status = 'Sold'\n",
    "                depop_fee = re.sub('[^A-Za-z0-9]+', '', updated_price) * 0.1\n",
    "                net_profit = re.sub('[^A-Za-z0-9]+', '', updated_price) - depop_fee\n",
    "        except:\n",
    "            status = 'Active' \n",
    "            depop_fee = ''\n",
    "            net_profit = ''\n",
    "            \n",
    "        output['name'] = name\n",
    "        output['image_id'] = image_id\n",
    "        output['likes'] = likes\n",
    "        output['price'] = price\n",
    "        output['depop_fee'] = depop_fee\n",
    "        output['net_profit'] = net_profit\n",
    "        output['updated_price'] = updated_price\n",
    "        output['holder'] = holder\n",
    "        output['size'] = size\n",
    "        output['brand'] = brand\n",
    "        output['condition'] = condition\n",
    "        output['style'] = style\n",
    "        output['status'] = status\n",
    "        \n",
    "        final.append(output)\n",
    "        \n",
    "    return pd.DataFrame(final)"
   ]
  },
  {
   "cell_type": "code",
   "execution_count": 4,
   "id": "eb2c3f2c-f4cb-424d-bd4e-87bc5d18fc17",
   "metadata": {},
   "outputs": [],
   "source": [
    "def df_to_csv(df):\n",
    "    return df.to_csv(index=False)"
   ]
  },
  {
   "cell_type": "code",
   "execution_count": 7,
   "id": "2582f91d-baf7-4ef4-87e4-98d87135f7ba",
   "metadata": {},
   "outputs": [],
   "source": [
    "def main(driver, account):\n",
    "    print('define_account started')\n",
    "    driver.maximize_window()\n",
    "    driver.implicitly_wait(10)\n",
    "    driver.get(account)\n",
    "    accept_cookies(driver)\n",
    "    links = load_more(driver)\n",
    "    df = grab_data(links)\n",
    "    df_to_csv(df)"
   ]
  }
 ],
 "metadata": {
  "kernelspec": {
   "display_name": "Python 3 (ipykernel)",
   "language": "python",
   "name": "python3"
  },
  "language_info": {
   "codemirror_mode": {
    "name": "ipython",
    "version": 3
   },
   "file_extension": ".py",
   "mimetype": "text/x-python",
   "name": "python",
   "nbconvert_exporter": "python",
   "pygments_lexer": "ipython3",
   "version": "3.9.13"
  }
 },
 "nbformat": 4,
 "nbformat_minor": 5
}
