{
 "cells": [
  {
   "cell_type": "code",
   "execution_count": 1,
   "id": "478bd5af-8ba2-443d-9313-2d76048f3c0c",
   "metadata": {},
   "outputs": [],
   "source": [
    "import pandas as pd\n",
    "import re\n",
    "from re import match\n",
    "import requests\n",
    "import difflib\n",
    "import numpy as np\n",
    "import math\n",
    "from selenium import webdriver\n",
    "import time\n",
    "from selenium.common.exceptions import StaleElementReferenceException\n",
    "from selenium.webdriver.common.by import By\n",
    "from selenium.webdriver.common.action_chains import ActionChains\n",
    "import re"
   ]
  },
  {
   "cell_type": "markdown",
   "id": "e8cb144b-c4bd-49e6-9652-c0510e41a6d4",
   "metadata": {},
   "source": [
    "1. Go to depop account website\n",
    "2. Max click load more to gather all the items\n",
    "3. Click on each item\n",
    "4. Set local variables each to things and add them to the df"
   ]
  },
  {
   "cell_type": "code",
   "execution_count": 2,
   "id": "cee86949-a4e4-4c8d-b0bf-5d0d8e462466",
   "metadata": {},
   "outputs": [],
   "source": [
    "account = 'https://www.depop.com/binsbundles/'"
   ]
  },
  {
   "cell_type": "code",
   "execution_count": 37,
   "id": "2582f91d-baf7-4ef4-87e4-98d87135f7ba",
   "metadata": {},
   "outputs": [],
   "source": [
    "#navigate to the depop account page\n",
    "def main(driver, account):\n",
    "    print('define_account started')\n",
    "    driver.maximize_window()\n",
    "    driver.implicitly_wait(10)\n",
    "    driver.get(account)\n",
    "    accept_cookies(driver)\n",
    "    links = load_more(driver)\n",
    "    df = grab_data(links)"
   ]
  },
  {
   "cell_type": "code",
   "execution_count": 22,
   "id": "d0c7b760-5c49-4207-a321-359421768330",
   "metadata": {},
   "outputs": [],
   "source": [
    "#account for cookies popup button\n",
    "def accept_cookies(driver):\n",
    "    print('accept_cookies started')\n",
    "    driver.find_element(By.CSS_SELECTOR, '#__next > div > div.sc-kLLXSd.ewUPBB > div.sc-jIZahH.jtDGoQ > button.sc-kDDrLX.sc-iqcoie.sc-cCsOjp.jNsXur.edBKPF.iDnRbj').click()"
   ]
  },
  {
   "cell_type": "code",
   "execution_count": 35,
   "id": "acb6591e-db5a-499e-9983-cbd28714898d",
   "metadata": {},
   "outputs": [],
   "source": [
    "#max click load more button to gather all the items   \n",
    "def load_more(driver):\n",
    "    print('load_more started')\n",
    "    while True:\n",
    "        try: \n",
    "            if driver.find_element(By.CSS_SELECTOR, '#products-tab > div > div > button'):\n",
    "                driver.execute_script(\"window.scrollTo(0,document.body.scrollHeight)\")\n",
    "                load_more = driver.find_element(By.CSS_SELECTOR, '#products-tab > div > div > button')\n",
    "                actions = ActionChains(driver)\n",
    "                actions.move_to_element(load_more).click().perform()\n",
    "                driver.implicitly_wait(1)\n",
    "        except:\n",
    "            links = gather_links(driver)\n",
    "            break\n",
    "    return links"
   ]
  },
  {
   "cell_type": "code",
   "execution_count": 33,
   "id": "1cd4d195-cf0f-4f0a-adfd-897b6ac7440c",
   "metadata": {},
   "outputs": [],
   "source": [
    "#grab all of the links of the items\n",
    "def gather_links(driver):\n",
    "    print('gather_links started')\n",
    "    links = []\n",
    "    count = 1\n",
    "    while True:\n",
    "        if driver.find_element(By.CSS_SELECTOR, f\"#products-tab > div > ul > li:nth-child({count}) > div > a\"):\n",
    "            link = driver.find_element(By.CSS_SELECTOR, f\"#products-tab > div > ul > li:nth-child({count}) > div > a\")\n",
    "            links.append(link.get_attribute(\"href\"))\n",
    "            count += 1\n",
    "        else:\n",
    "            break\n",
    "    return links"
   ]
  },
  {
   "cell_type": "code",
   "execution_count": null,
   "id": "6d17aee0-574b-4e8c-9b51-3225988a6f2e",
   "metadata": {},
   "outputs": [],
   "source": [
    "def grab_data(links):\n",
    "    return links"
   ]
  },
  {
   "cell_type": "code",
   "execution_count": 34,
   "id": "150321e4-3892-4f8a-ad52-6ae10a81610d",
   "metadata": {
    "collapsed": true,
    "jupyter": {
     "outputs_hidden": true
    },
    "tags": []
   },
   "outputs": [
    {
     "name": "stderr",
     "output_type": "stream",
     "text": [
      "C:\\Users\\evana\\AppData\\Local\\Temp\\ipykernel_25568\\1062149751.py:1: DeprecationWarning: executable_path has been deprecated, please pass in a Service object\n",
      "  links = main(webdriver.Chrome(executable_path=\"path\"), account)\n"
     ]
    },
    {
     "name": "stdout",
     "output_type": "stream",
     "text": [
      "define_account started\n",
      "accept_cookies started\n",
      "load_more started\n",
      "gather_links started\n"
     ]
    },
    {
     "ename": "NoSuchElementException",
     "evalue": "Message: no such element: Unable to locate element: {\"method\":\"css selector\",\"selector\":\"#products-tab > div > ul > li:nth-child(273) > div > a\"}\n  (Session info: chrome=112.0.5615.138)\nStacktrace:\nBacktrace:\n\tGetHandleVerifier [0x00E4DCE3+50899]\n\t(No symbol) [0x00DDE111]\n\t(No symbol) [0x00CE5588]\n\t(No symbol) [0x00D108F9]\n\t(No symbol) [0x00D10AFB]\n\t(No symbol) [0x00D3F902]\n\t(No symbol) [0x00D2B944]\n\t(No symbol) [0x00D3E01C]\n\t(No symbol) [0x00D2B6F6]\n\t(No symbol) [0x00D07708]\n\t(No symbol) [0x00D0886D]\n\tGetHandleVerifier [0x010B3EAE+2566302]\n\tGetHandleVerifier [0x010E92B1+2784417]\n\tGetHandleVerifier [0x010E327C+2759788]\n\tGetHandleVerifier [0x00EE5740+672048]\n\t(No symbol) [0x00DE8872]\n\t(No symbol) [0x00DE41C8]\n\t(No symbol) [0x00DE42AB]\n\t(No symbol) [0x00DD71B7]\n\tBaseThreadInitThunk [0x758A7D49+25]\n\tRtlInitializeExceptionChain [0x77A1B74B+107]\n\tRtlClearBits [0x77A1B6CF+191]\n",
     "output_type": "error",
     "traceback": [
      "\u001b[1;31m---------------------------------------------------------------------------\u001b[0m",
      "\u001b[1;31mNoSuchElementException\u001b[0m                    Traceback (most recent call last)",
      "\u001b[1;32m~\\AppData\\Local\\Temp\\ipykernel_25568\\2927041365.py\u001b[0m in \u001b[0;36mload_more\u001b[1;34m(driver)\u001b[0m\n\u001b[0;32m      5\u001b[0m         \u001b[1;32mtry\u001b[0m\u001b[1;33m:\u001b[0m\u001b[1;33m\u001b[0m\u001b[1;33m\u001b[0m\u001b[0m\n\u001b[1;32m----> 6\u001b[1;33m             \u001b[1;32mif\u001b[0m \u001b[0mdriver\u001b[0m\u001b[1;33m.\u001b[0m\u001b[0mfind_element\u001b[0m\u001b[1;33m(\u001b[0m\u001b[0mBy\u001b[0m\u001b[1;33m.\u001b[0m\u001b[0mCSS_SELECTOR\u001b[0m\u001b[1;33m,\u001b[0m \u001b[1;34m'#products-tab > div > div > button'\u001b[0m\u001b[1;33m)\u001b[0m\u001b[1;33m:\u001b[0m\u001b[1;33m\u001b[0m\u001b[1;33m\u001b[0m\u001b[0m\n\u001b[0m\u001b[0;32m      7\u001b[0m                 \u001b[0mdriver\u001b[0m\u001b[1;33m.\u001b[0m\u001b[0mexecute_script\u001b[0m\u001b[1;33m(\u001b[0m\u001b[1;34m\"window.scrollTo(0,document.body.scrollHeight)\"\u001b[0m\u001b[1;33m)\u001b[0m\u001b[1;33m\u001b[0m\u001b[1;33m\u001b[0m\u001b[0m\n",
      "\u001b[1;32m~\\anaconda3\\lib\\site-packages\\selenium\\webdriver\\remote\\webdriver.py\u001b[0m in \u001b[0;36mfind_element\u001b[1;34m(self, by, value)\u001b[0m\n\u001b[0;32m    830\u001b[0m \u001b[1;33m\u001b[0m\u001b[0m\n\u001b[1;32m--> 831\u001b[1;33m         \u001b[1;32mreturn\u001b[0m \u001b[0mself\u001b[0m\u001b[1;33m.\u001b[0m\u001b[0mexecute\u001b[0m\u001b[1;33m(\u001b[0m\u001b[0mCommand\u001b[0m\u001b[1;33m.\u001b[0m\u001b[0mFIND_ELEMENT\u001b[0m\u001b[1;33m,\u001b[0m \u001b[1;33m{\u001b[0m\u001b[1;34m\"using\"\u001b[0m\u001b[1;33m:\u001b[0m \u001b[0mby\u001b[0m\u001b[1;33m,\u001b[0m \u001b[1;34m\"value\"\u001b[0m\u001b[1;33m:\u001b[0m \u001b[0mvalue\u001b[0m\u001b[1;33m}\u001b[0m\u001b[1;33m)\u001b[0m\u001b[1;33m[\u001b[0m\u001b[1;34m\"value\"\u001b[0m\u001b[1;33m]\u001b[0m\u001b[1;33m\u001b[0m\u001b[1;33m\u001b[0m\u001b[0m\n\u001b[0m\u001b[0;32m    832\u001b[0m \u001b[1;33m\u001b[0m\u001b[0m\n",
      "\u001b[1;32m~\\anaconda3\\lib\\site-packages\\selenium\\webdriver\\remote\\webdriver.py\u001b[0m in \u001b[0;36mexecute\u001b[1;34m(self, driver_command, params)\u001b[0m\n\u001b[0;32m    439\u001b[0m         \u001b[1;32mif\u001b[0m \u001b[0mresponse\u001b[0m\u001b[1;33m:\u001b[0m\u001b[1;33m\u001b[0m\u001b[1;33m\u001b[0m\u001b[0m\n\u001b[1;32m--> 440\u001b[1;33m             \u001b[0mself\u001b[0m\u001b[1;33m.\u001b[0m\u001b[0merror_handler\u001b[0m\u001b[1;33m.\u001b[0m\u001b[0mcheck_response\u001b[0m\u001b[1;33m(\u001b[0m\u001b[0mresponse\u001b[0m\u001b[1;33m)\u001b[0m\u001b[1;33m\u001b[0m\u001b[1;33m\u001b[0m\u001b[0m\n\u001b[0m\u001b[0;32m    441\u001b[0m             \u001b[0mresponse\u001b[0m\u001b[1;33m[\u001b[0m\u001b[1;34m\"value\"\u001b[0m\u001b[1;33m]\u001b[0m \u001b[1;33m=\u001b[0m \u001b[0mself\u001b[0m\u001b[1;33m.\u001b[0m\u001b[0m_unwrap_value\u001b[0m\u001b[1;33m(\u001b[0m\u001b[0mresponse\u001b[0m\u001b[1;33m.\u001b[0m\u001b[0mget\u001b[0m\u001b[1;33m(\u001b[0m\u001b[1;34m\"value\"\u001b[0m\u001b[1;33m,\u001b[0m \u001b[1;32mNone\u001b[0m\u001b[1;33m)\u001b[0m\u001b[1;33m)\u001b[0m\u001b[1;33m\u001b[0m\u001b[1;33m\u001b[0m\u001b[0m\n",
      "\u001b[1;32m~\\anaconda3\\lib\\site-packages\\selenium\\webdriver\\remote\\errorhandler.py\u001b[0m in \u001b[0;36mcheck_response\u001b[1;34m(self, response)\u001b[0m\n\u001b[0;32m    244\u001b[0m             \u001b[1;32mraise\u001b[0m \u001b[0mexception_class\u001b[0m\u001b[1;33m(\u001b[0m\u001b[0mmessage\u001b[0m\u001b[1;33m,\u001b[0m \u001b[0mscreen\u001b[0m\u001b[1;33m,\u001b[0m \u001b[0mstacktrace\u001b[0m\u001b[1;33m,\u001b[0m \u001b[0malert_text\u001b[0m\u001b[1;33m)\u001b[0m  \u001b[1;31m# type: ignore[call-arg]  # mypy is not smart enough here\u001b[0m\u001b[1;33m\u001b[0m\u001b[1;33m\u001b[0m\u001b[0m\n\u001b[1;32m--> 245\u001b[1;33m         \u001b[1;32mraise\u001b[0m \u001b[0mexception_class\u001b[0m\u001b[1;33m(\u001b[0m\u001b[0mmessage\u001b[0m\u001b[1;33m,\u001b[0m \u001b[0mscreen\u001b[0m\u001b[1;33m,\u001b[0m \u001b[0mstacktrace\u001b[0m\u001b[1;33m)\u001b[0m\u001b[1;33m\u001b[0m\u001b[1;33m\u001b[0m\u001b[0m\n\u001b[0m",
      "\u001b[1;31mNoSuchElementException\u001b[0m: Message: no such element: Unable to locate element: {\"method\":\"css selector\",\"selector\":\"#products-tab > div > div > button\"}\n  (Session info: chrome=112.0.5615.138)\nStacktrace:\nBacktrace:\n\tGetHandleVerifier [0x00E4DCE3+50899]\n\t(No symbol) [0x00DDE111]\n\t(No symbol) [0x00CE5588]\n\t(No symbol) [0x00D108F9]\n\t(No symbol) [0x00D10AFB]\n\t(No symbol) [0x00D3F902]\n\t(No symbol) [0x00D2B944]\n\t(No symbol) [0x00D3E01C]\n\t(No symbol) [0x00D2B6F6]\n\t(No symbol) [0x00D07708]\n\t(No symbol) [0x00D0886D]\n\tGetHandleVerifier [0x010B3EAE+2566302]\n\tGetHandleVerifier [0x010E92B1+2784417]\n\tGetHandleVerifier [0x010E327C+2759788]\n\tGetHandleVerifier [0x00EE5740+672048]\n\t(No symbol) [0x00DE8872]\n\t(No symbol) [0x00DE41C8]\n\t(No symbol) [0x00DE42AB]\n\t(No symbol) [0x00DD71B7]\n\tBaseThreadInitThunk [0x758A7D49+25]\n\tRtlInitializeExceptionChain [0x77A1B74B+107]\n\tRtlClearBits [0x77A1B6CF+191]\n",
      "\nDuring handling of the above exception, another exception occurred:\n",
      "\u001b[1;31mNoSuchElementException\u001b[0m                    Traceback (most recent call last)",
      "\u001b[1;32m~\\AppData\\Local\\Temp\\ipykernel_25568\\1062149751.py\u001b[0m in \u001b[0;36m<module>\u001b[1;34m\u001b[0m\n\u001b[1;32m----> 1\u001b[1;33m \u001b[0mlinks\u001b[0m \u001b[1;33m=\u001b[0m \u001b[0mmain\u001b[0m\u001b[1;33m(\u001b[0m\u001b[0mwebdriver\u001b[0m\u001b[1;33m.\u001b[0m\u001b[0mChrome\u001b[0m\u001b[1;33m(\u001b[0m\u001b[0mexecutable_path\u001b[0m\u001b[1;33m=\u001b[0m\u001b[1;34m\"path\"\u001b[0m\u001b[1;33m)\u001b[0m\u001b[1;33m,\u001b[0m \u001b[0maccount\u001b[0m\u001b[1;33m)\u001b[0m\u001b[1;33m\u001b[0m\u001b[1;33m\u001b[0m\u001b[0m\n\u001b[0m",
      "\u001b[1;32m~\\AppData\\Local\\Temp\\ipykernel_25568\\4106779638.py\u001b[0m in \u001b[0;36mmain\u001b[1;34m(driver, account)\u001b[0m\n\u001b[0;32m      6\u001b[0m     \u001b[0mdriver\u001b[0m\u001b[1;33m.\u001b[0m\u001b[0mget\u001b[0m\u001b[1;33m(\u001b[0m\u001b[0maccount\u001b[0m\u001b[1;33m)\u001b[0m\u001b[1;33m\u001b[0m\u001b[1;33m\u001b[0m\u001b[0m\n\u001b[0;32m      7\u001b[0m     \u001b[0maccept_cookies\u001b[0m\u001b[1;33m(\u001b[0m\u001b[0mdriver\u001b[0m\u001b[1;33m)\u001b[0m\u001b[1;33m\u001b[0m\u001b[1;33m\u001b[0m\u001b[0m\n\u001b[1;32m----> 8\u001b[1;33m     \u001b[0mlinks\u001b[0m \u001b[1;33m=\u001b[0m \u001b[0mload_more\u001b[0m\u001b[1;33m(\u001b[0m\u001b[0mdriver\u001b[0m\u001b[1;33m)\u001b[0m\u001b[1;33m\u001b[0m\u001b[1;33m\u001b[0m\u001b[0m\n\u001b[0m\u001b[0;32m      9\u001b[0m     \u001b[0mdf\u001b[0m \u001b[1;33m=\u001b[0m \u001b[0mgrab_data\u001b[0m\u001b[1;33m(\u001b[0m\u001b[0mlinks\u001b[0m\u001b[1;33m)\u001b[0m\u001b[1;33m\u001b[0m\u001b[1;33m\u001b[0m\u001b[0m\n",
      "\u001b[1;32m~\\AppData\\Local\\Temp\\ipykernel_25568\\2927041365.py\u001b[0m in \u001b[0;36mload_more\u001b[1;34m(driver)\u001b[0m\n\u001b[0;32m     11\u001b[0m                 \u001b[0mdriver\u001b[0m\u001b[1;33m.\u001b[0m\u001b[0mimplicitly_wait\u001b[0m\u001b[1;33m(\u001b[0m\u001b[1;36m1\u001b[0m\u001b[1;33m)\u001b[0m\u001b[1;33m\u001b[0m\u001b[1;33m\u001b[0m\u001b[0m\n\u001b[0;32m     12\u001b[0m         \u001b[1;32mexcept\u001b[0m\u001b[1;33m:\u001b[0m\u001b[1;33m\u001b[0m\u001b[1;33m\u001b[0m\u001b[0m\n\u001b[1;32m---> 13\u001b[1;33m             \u001b[0mlinks\u001b[0m \u001b[1;33m=\u001b[0m \u001b[0mgather_links\u001b[0m\u001b[1;33m(\u001b[0m\u001b[0mdriver\u001b[0m\u001b[1;33m)\u001b[0m\u001b[1;33m\u001b[0m\u001b[1;33m\u001b[0m\u001b[0m\n\u001b[0m\u001b[0;32m     14\u001b[0m             \u001b[1;32mbreak\u001b[0m\u001b[1;33m\u001b[0m\u001b[1;33m\u001b[0m\u001b[0m\n\u001b[0;32m     15\u001b[0m     \u001b[1;32mreturn\u001b[0m \u001b[0mlinks\u001b[0m\u001b[1;33m\u001b[0m\u001b[1;33m\u001b[0m\u001b[0m\n",
      "\u001b[1;32m~\\AppData\\Local\\Temp\\ipykernel_25568\\1782111447.py\u001b[0m in \u001b[0;36mgather_links\u001b[1;34m(driver)\u001b[0m\n\u001b[0;32m      5\u001b[0m     \u001b[0mcount\u001b[0m \u001b[1;33m=\u001b[0m \u001b[1;36m1\u001b[0m\u001b[1;33m\u001b[0m\u001b[1;33m\u001b[0m\u001b[0m\n\u001b[0;32m      6\u001b[0m     \u001b[1;32mwhile\u001b[0m \u001b[1;32mTrue\u001b[0m\u001b[1;33m:\u001b[0m\u001b[1;33m\u001b[0m\u001b[1;33m\u001b[0m\u001b[0m\n\u001b[1;32m----> 7\u001b[1;33m         \u001b[1;32mif\u001b[0m \u001b[0mdriver\u001b[0m\u001b[1;33m.\u001b[0m\u001b[0mfind_element\u001b[0m\u001b[1;33m(\u001b[0m\u001b[0mBy\u001b[0m\u001b[1;33m.\u001b[0m\u001b[0mCSS_SELECTOR\u001b[0m\u001b[1;33m,\u001b[0m \u001b[1;34mf\"#products-tab > div > ul > li:nth-child({count}) > div > a\"\u001b[0m\u001b[1;33m)\u001b[0m\u001b[1;33m:\u001b[0m\u001b[1;33m\u001b[0m\u001b[1;33m\u001b[0m\u001b[0m\n\u001b[0m\u001b[0;32m      8\u001b[0m             \u001b[0mlink\u001b[0m \u001b[1;33m=\u001b[0m \u001b[0mdriver\u001b[0m\u001b[1;33m.\u001b[0m\u001b[0mfind_element\u001b[0m\u001b[1;33m(\u001b[0m\u001b[0mBy\u001b[0m\u001b[1;33m.\u001b[0m\u001b[0mCSS_SELECTOR\u001b[0m\u001b[1;33m,\u001b[0m \u001b[1;34mf\"#products-tab > div > ul > li:nth-child({count}) > div > a\"\u001b[0m\u001b[1;33m)\u001b[0m\u001b[1;33m\u001b[0m\u001b[1;33m\u001b[0m\u001b[0m\n\u001b[0;32m      9\u001b[0m             \u001b[0mlinks\u001b[0m\u001b[1;33m.\u001b[0m\u001b[0mappend\u001b[0m\u001b[1;33m(\u001b[0m\u001b[0mlink\u001b[0m\u001b[1;33m.\u001b[0m\u001b[0mget_attribute\u001b[0m\u001b[1;33m(\u001b[0m\u001b[1;34m\"href\"\u001b[0m\u001b[1;33m)\u001b[0m\u001b[1;33m)\u001b[0m\u001b[1;33m\u001b[0m\u001b[1;33m\u001b[0m\u001b[0m\n",
      "\u001b[1;32m~\\anaconda3\\lib\\site-packages\\selenium\\webdriver\\remote\\webdriver.py\u001b[0m in \u001b[0;36mfind_element\u001b[1;34m(self, by, value)\u001b[0m\n\u001b[0;32m    829\u001b[0m             \u001b[0mvalue\u001b[0m \u001b[1;33m=\u001b[0m \u001b[1;34mf'[name=\"{value}\"]'\u001b[0m\u001b[1;33m\u001b[0m\u001b[1;33m\u001b[0m\u001b[0m\n\u001b[0;32m    830\u001b[0m \u001b[1;33m\u001b[0m\u001b[0m\n\u001b[1;32m--> 831\u001b[1;33m         \u001b[1;32mreturn\u001b[0m \u001b[0mself\u001b[0m\u001b[1;33m.\u001b[0m\u001b[0mexecute\u001b[0m\u001b[1;33m(\u001b[0m\u001b[0mCommand\u001b[0m\u001b[1;33m.\u001b[0m\u001b[0mFIND_ELEMENT\u001b[0m\u001b[1;33m,\u001b[0m \u001b[1;33m{\u001b[0m\u001b[1;34m\"using\"\u001b[0m\u001b[1;33m:\u001b[0m \u001b[0mby\u001b[0m\u001b[1;33m,\u001b[0m \u001b[1;34m\"value\"\u001b[0m\u001b[1;33m:\u001b[0m \u001b[0mvalue\u001b[0m\u001b[1;33m}\u001b[0m\u001b[1;33m)\u001b[0m\u001b[1;33m[\u001b[0m\u001b[1;34m\"value\"\u001b[0m\u001b[1;33m]\u001b[0m\u001b[1;33m\u001b[0m\u001b[1;33m\u001b[0m\u001b[0m\n\u001b[0m\u001b[0;32m    832\u001b[0m \u001b[1;33m\u001b[0m\u001b[0m\n\u001b[0;32m    833\u001b[0m     \u001b[1;32mdef\u001b[0m \u001b[0mfind_elements\u001b[0m\u001b[1;33m(\u001b[0m\u001b[0mself\u001b[0m\u001b[1;33m,\u001b[0m \u001b[0mby\u001b[0m\u001b[1;33m=\u001b[0m\u001b[0mBy\u001b[0m\u001b[1;33m.\u001b[0m\u001b[0mID\u001b[0m\u001b[1;33m,\u001b[0m \u001b[0mvalue\u001b[0m\u001b[1;33m:\u001b[0m \u001b[0mOptional\u001b[0m\u001b[1;33m[\u001b[0m\u001b[0mstr\u001b[0m\u001b[1;33m]\u001b[0m \u001b[1;33m=\u001b[0m \u001b[1;32mNone\u001b[0m\u001b[1;33m)\u001b[0m \u001b[1;33m->\u001b[0m \u001b[0mList\u001b[0m\u001b[1;33m[\u001b[0m\u001b[0mWebElement\u001b[0m\u001b[1;33m]\u001b[0m\u001b[1;33m:\u001b[0m\u001b[1;33m\u001b[0m\u001b[1;33m\u001b[0m\u001b[0m\n",
      "\u001b[1;32m~\\anaconda3\\lib\\site-packages\\selenium\\webdriver\\remote\\webdriver.py\u001b[0m in \u001b[0;36mexecute\u001b[1;34m(self, driver_command, params)\u001b[0m\n\u001b[0;32m    438\u001b[0m         \u001b[0mresponse\u001b[0m \u001b[1;33m=\u001b[0m \u001b[0mself\u001b[0m\u001b[1;33m.\u001b[0m\u001b[0mcommand_executor\u001b[0m\u001b[1;33m.\u001b[0m\u001b[0mexecute\u001b[0m\u001b[1;33m(\u001b[0m\u001b[0mdriver_command\u001b[0m\u001b[1;33m,\u001b[0m \u001b[0mparams\u001b[0m\u001b[1;33m)\u001b[0m\u001b[1;33m\u001b[0m\u001b[1;33m\u001b[0m\u001b[0m\n\u001b[0;32m    439\u001b[0m         \u001b[1;32mif\u001b[0m \u001b[0mresponse\u001b[0m\u001b[1;33m:\u001b[0m\u001b[1;33m\u001b[0m\u001b[1;33m\u001b[0m\u001b[0m\n\u001b[1;32m--> 440\u001b[1;33m             \u001b[0mself\u001b[0m\u001b[1;33m.\u001b[0m\u001b[0merror_handler\u001b[0m\u001b[1;33m.\u001b[0m\u001b[0mcheck_response\u001b[0m\u001b[1;33m(\u001b[0m\u001b[0mresponse\u001b[0m\u001b[1;33m)\u001b[0m\u001b[1;33m\u001b[0m\u001b[1;33m\u001b[0m\u001b[0m\n\u001b[0m\u001b[0;32m    441\u001b[0m             \u001b[0mresponse\u001b[0m\u001b[1;33m[\u001b[0m\u001b[1;34m\"value\"\u001b[0m\u001b[1;33m]\u001b[0m \u001b[1;33m=\u001b[0m \u001b[0mself\u001b[0m\u001b[1;33m.\u001b[0m\u001b[0m_unwrap_value\u001b[0m\u001b[1;33m(\u001b[0m\u001b[0mresponse\u001b[0m\u001b[1;33m.\u001b[0m\u001b[0mget\u001b[0m\u001b[1;33m(\u001b[0m\u001b[1;34m\"value\"\u001b[0m\u001b[1;33m,\u001b[0m \u001b[1;32mNone\u001b[0m\u001b[1;33m)\u001b[0m\u001b[1;33m)\u001b[0m\u001b[1;33m\u001b[0m\u001b[1;33m\u001b[0m\u001b[0m\n\u001b[0;32m    442\u001b[0m             \u001b[1;32mreturn\u001b[0m \u001b[0mresponse\u001b[0m\u001b[1;33m\u001b[0m\u001b[1;33m\u001b[0m\u001b[0m\n",
      "\u001b[1;32m~\\anaconda3\\lib\\site-packages\\selenium\\webdriver\\remote\\errorhandler.py\u001b[0m in \u001b[0;36mcheck_response\u001b[1;34m(self, response)\u001b[0m\n\u001b[0;32m    243\u001b[0m                 \u001b[0malert_text\u001b[0m \u001b[1;33m=\u001b[0m \u001b[0mvalue\u001b[0m\u001b[1;33m[\u001b[0m\u001b[1;34m\"alert\"\u001b[0m\u001b[1;33m]\u001b[0m\u001b[1;33m.\u001b[0m\u001b[0mget\u001b[0m\u001b[1;33m(\u001b[0m\u001b[1;34m\"text\"\u001b[0m\u001b[1;33m)\u001b[0m\u001b[1;33m\u001b[0m\u001b[1;33m\u001b[0m\u001b[0m\n\u001b[0;32m    244\u001b[0m             \u001b[1;32mraise\u001b[0m \u001b[0mexception_class\u001b[0m\u001b[1;33m(\u001b[0m\u001b[0mmessage\u001b[0m\u001b[1;33m,\u001b[0m \u001b[0mscreen\u001b[0m\u001b[1;33m,\u001b[0m \u001b[0mstacktrace\u001b[0m\u001b[1;33m,\u001b[0m \u001b[0malert_text\u001b[0m\u001b[1;33m)\u001b[0m  \u001b[1;31m# type: ignore[call-arg]  # mypy is not smart enough here\u001b[0m\u001b[1;33m\u001b[0m\u001b[1;33m\u001b[0m\u001b[0m\n\u001b[1;32m--> 245\u001b[1;33m         \u001b[1;32mraise\u001b[0m \u001b[0mexception_class\u001b[0m\u001b[1;33m(\u001b[0m\u001b[0mmessage\u001b[0m\u001b[1;33m,\u001b[0m \u001b[0mscreen\u001b[0m\u001b[1;33m,\u001b[0m \u001b[0mstacktrace\u001b[0m\u001b[1;33m)\u001b[0m\u001b[1;33m\u001b[0m\u001b[1;33m\u001b[0m\u001b[0m\n\u001b[0m",
      "\u001b[1;31mNoSuchElementException\u001b[0m: Message: no such element: Unable to locate element: {\"method\":\"css selector\",\"selector\":\"#products-tab > div > ul > li:nth-child(273) > div > a\"}\n  (Session info: chrome=112.0.5615.138)\nStacktrace:\nBacktrace:\n\tGetHandleVerifier [0x00E4DCE3+50899]\n\t(No symbol) [0x00DDE111]\n\t(No symbol) [0x00CE5588]\n\t(No symbol) [0x00D108F9]\n\t(No symbol) [0x00D10AFB]\n\t(No symbol) [0x00D3F902]\n\t(No symbol) [0x00D2B944]\n\t(No symbol) [0x00D3E01C]\n\t(No symbol) [0x00D2B6F6]\n\t(No symbol) [0x00D07708]\n\t(No symbol) [0x00D0886D]\n\tGetHandleVerifier [0x010B3EAE+2566302]\n\tGetHandleVerifier [0x010E92B1+2784417]\n\tGetHandleVerifier [0x010E327C+2759788]\n\tGetHandleVerifier [0x00EE5740+672048]\n\t(No symbol) [0x00DE8872]\n\t(No symbol) [0x00DE41C8]\n\t(No symbol) [0x00DE42AB]\n\t(No symbol) [0x00DD71B7]\n\tBaseThreadInitThunk [0x758A7D49+25]\n\tRtlInitializeExceptionChain [0x77A1B74B+107]\n\tRtlClearBits [0x77A1B6CF+191]\n"
     ]
    }
   ],
   "source": [
    "links = main(webdriver.Chrome(executable_path=\"path\"), account)"
   ]
  },
  {
   "cell_type": "code",
   "execution_count": 3,
   "id": "4861526a-e80a-45ba-8a15-3fd1dd25c507",
   "metadata": {},
   "outputs": [],
   "source": [
    "links = ['https://www.depop.com/products/binsbundles-dragon-ball-z-tee/', \n",
    "         'https://www.depop.com/products/binsbundles-vintage-nike-indiana-hoosiers-tee/', \n",
    "         'https://www.depop.com/products/binsbundles-vintage-michigan-university-blue-hoodie/',\n",
    "        'https://www.depop.com/products/binsbundles-nike-vintage-cp-college-zip-up/',\n",
    "        'https://www.depop.com/products/binsbundles-vintage-dickies-carpenter-pants-b331/']"
   ]
  },
  {
   "cell_type": "code",
   "execution_count": 85,
   "id": "d361495a-ae28-4bd8-9998-d03d8fe5d155",
   "metadata": {
    "tags": []
   },
   "outputs": [
    {
     "name": "stdout",
     "output_type": "stream",
     "text": [
      "0  Size                            Style Colour\n",
      "1  XXXL  Sportswear, Streetwear, Vintage  Black\n",
      "0 Size Brand                            Style     Colour\n",
      "1    S  Nike  Sportswear, Streetwear, Vintage  Grey, Red\n",
      "0 Size                                              Style        Colour\n",
      "1    L  Streetwear, Casual, Skater, 00s, Vintage, Prel...  Blue, Yellow\n",
      "0 Brand         Condition               Style Colour\n",
      "1  Nike  Used - Excellent  Sportswear, Casual   Grey\n",
      "0 Size    Brand                            Style Colour\n",
      "1  38\"  Dickies  Sportswear, Streetwear, Vintage    Tan\n"
     ]
    }
   ],
   "source": [
    "for link in links:\n",
    "    df = pd.read_html(link)[0].transpose()\n",
    "    df.columns = df.iloc[0]\n",
    "    df = df.tail(-1)\n",
    "    print(df['Size'].values[0])"
   ]
  },
  {
   "cell_type": "code",
   "execution_count": 4,
   "id": "47b794c2-89b3-45cb-9cfb-bd071af345c2",
   "metadata": {
    "collapsed": true,
    "jupyter": {
     "outputs_hidden": true
    },
    "tags": []
   },
   "outputs": [
    {
     "name": "stderr",
     "output_type": "stream",
     "text": [
      "C:\\Users\\evana\\AppData\\Local\\Temp\\ipykernel_28460\\498822916.py:1: DeprecationWarning: executable_path has been deprecated, please pass in a Service object\n",
      "  driver = webdriver.Chrome(executable_path=\"path\")\n"
     ]
    },
    {
     "ename": "NameError",
     "evalue": "name 'price' is not defined",
     "output_type": "error",
     "traceback": [
      "\u001b[1;31m---------------------------------------------------------------------------\u001b[0m",
      "\u001b[1;31mNoSuchElementException\u001b[0m                    Traceback (most recent call last)",
      "\u001b[1;32m~\\AppData\\Local\\Temp\\ipykernel_28460\\498822916.py\u001b[0m in \u001b[0;36m<module>\u001b[1;34m\u001b[0m\n\u001b[0;32m     30\u001b[0m     \u001b[1;32mtry\u001b[0m\u001b[1;33m:\u001b[0m\u001b[1;33m\u001b[0m\u001b[1;33m\u001b[0m\u001b[0m\n\u001b[1;32m---> 31\u001b[1;33m         \u001b[0mupdated_price\u001b[0m \u001b[1;33m=\u001b[0m \u001b[0mdriver\u001b[0m\u001b[1;33m.\u001b[0m\u001b[0mfind_element\u001b[0m\u001b[1;33m(\u001b[0m\u001b[0mBy\u001b[0m\u001b[1;33m.\u001b[0m\u001b[0mCSS_SELECTOR\u001b[0m\u001b[1;33m,\u001b[0m \u001b[0mupdated_price_loc\u001b[0m\u001b[1;33m)\u001b[0m\u001b[1;33m.\u001b[0m\u001b[0mtext\u001b[0m\u001b[1;33m\u001b[0m\u001b[1;33m\u001b[0m\u001b[0m\n\u001b[0m\u001b[0;32m     32\u001b[0m     \u001b[1;32mexcept\u001b[0m\u001b[1;33m:\u001b[0m\u001b[1;33m\u001b[0m\u001b[1;33m\u001b[0m\u001b[0m\n",
      "\u001b[1;32m~\\anaconda3\\lib\\site-packages\\selenium\\webdriver\\remote\\webdriver.py\u001b[0m in \u001b[0;36mfind_element\u001b[1;34m(self, by, value)\u001b[0m\n\u001b[0;32m    830\u001b[0m \u001b[1;33m\u001b[0m\u001b[0m\n\u001b[1;32m--> 831\u001b[1;33m         \u001b[1;32mreturn\u001b[0m \u001b[0mself\u001b[0m\u001b[1;33m.\u001b[0m\u001b[0mexecute\u001b[0m\u001b[1;33m(\u001b[0m\u001b[0mCommand\u001b[0m\u001b[1;33m.\u001b[0m\u001b[0mFIND_ELEMENT\u001b[0m\u001b[1;33m,\u001b[0m \u001b[1;33m{\u001b[0m\u001b[1;34m\"using\"\u001b[0m\u001b[1;33m:\u001b[0m \u001b[0mby\u001b[0m\u001b[1;33m,\u001b[0m \u001b[1;34m\"value\"\u001b[0m\u001b[1;33m:\u001b[0m \u001b[0mvalue\u001b[0m\u001b[1;33m}\u001b[0m\u001b[1;33m)\u001b[0m\u001b[1;33m[\u001b[0m\u001b[1;34m\"value\"\u001b[0m\u001b[1;33m]\u001b[0m\u001b[1;33m\u001b[0m\u001b[1;33m\u001b[0m\u001b[0m\n\u001b[0m\u001b[0;32m    832\u001b[0m \u001b[1;33m\u001b[0m\u001b[0m\n",
      "\u001b[1;32m~\\anaconda3\\lib\\site-packages\\selenium\\webdriver\\remote\\webdriver.py\u001b[0m in \u001b[0;36mexecute\u001b[1;34m(self, driver_command, params)\u001b[0m\n\u001b[0;32m    439\u001b[0m         \u001b[1;32mif\u001b[0m \u001b[0mresponse\u001b[0m\u001b[1;33m:\u001b[0m\u001b[1;33m\u001b[0m\u001b[1;33m\u001b[0m\u001b[0m\n\u001b[1;32m--> 440\u001b[1;33m             \u001b[0mself\u001b[0m\u001b[1;33m.\u001b[0m\u001b[0merror_handler\u001b[0m\u001b[1;33m.\u001b[0m\u001b[0mcheck_response\u001b[0m\u001b[1;33m(\u001b[0m\u001b[0mresponse\u001b[0m\u001b[1;33m)\u001b[0m\u001b[1;33m\u001b[0m\u001b[1;33m\u001b[0m\u001b[0m\n\u001b[0m\u001b[0;32m    441\u001b[0m             \u001b[0mresponse\u001b[0m\u001b[1;33m[\u001b[0m\u001b[1;34m\"value\"\u001b[0m\u001b[1;33m]\u001b[0m \u001b[1;33m=\u001b[0m \u001b[0mself\u001b[0m\u001b[1;33m.\u001b[0m\u001b[0m_unwrap_value\u001b[0m\u001b[1;33m(\u001b[0m\u001b[0mresponse\u001b[0m\u001b[1;33m.\u001b[0m\u001b[0mget\u001b[0m\u001b[1;33m(\u001b[0m\u001b[1;34m\"value\"\u001b[0m\u001b[1;33m,\u001b[0m \u001b[1;32mNone\u001b[0m\u001b[1;33m)\u001b[0m\u001b[1;33m)\u001b[0m\u001b[1;33m\u001b[0m\u001b[1;33m\u001b[0m\u001b[0m\n",
      "\u001b[1;32m~\\anaconda3\\lib\\site-packages\\selenium\\webdriver\\remote\\errorhandler.py\u001b[0m in \u001b[0;36mcheck_response\u001b[1;34m(self, response)\u001b[0m\n\u001b[0;32m    244\u001b[0m             \u001b[1;32mraise\u001b[0m \u001b[0mexception_class\u001b[0m\u001b[1;33m(\u001b[0m\u001b[0mmessage\u001b[0m\u001b[1;33m,\u001b[0m \u001b[0mscreen\u001b[0m\u001b[1;33m,\u001b[0m \u001b[0mstacktrace\u001b[0m\u001b[1;33m,\u001b[0m \u001b[0malert_text\u001b[0m\u001b[1;33m)\u001b[0m  \u001b[1;31m# type: ignore[call-arg]  # mypy is not smart enough here\u001b[0m\u001b[1;33m\u001b[0m\u001b[1;33m\u001b[0m\u001b[0m\n\u001b[1;32m--> 245\u001b[1;33m         \u001b[1;32mraise\u001b[0m \u001b[0mexception_class\u001b[0m\u001b[1;33m(\u001b[0m\u001b[0mmessage\u001b[0m\u001b[1;33m,\u001b[0m \u001b[0mscreen\u001b[0m\u001b[1;33m,\u001b[0m \u001b[0mstacktrace\u001b[0m\u001b[1;33m)\u001b[0m\u001b[1;33m\u001b[0m\u001b[1;33m\u001b[0m\u001b[0m\n\u001b[0m",
      "\u001b[1;31mNoSuchElementException\u001b[0m: Message: no such element: Unable to locate element: {\"method\":\"css selector\",\"selector\":\"#main > div.styles__Layout-sc-__sc-1fk4zep-4.eKcMRq > div.styles__ContentWrapper-sc-__sc-1fk4zep-5.dEyJOo >             div.ProductDetailsStickystyles__Wrapper-sc-__sc-17vfpzd-0.kGulyK.styles__StyledProductDetailsSticky-sc-__sc-1fk4zep-17.bqduPe >             div.ProductDetailsStickystyles__StyledProductPrice-sc-__sc-17vfpzd-4.kxMXFh > div.Pricestyles__PriceWithDiscountWrapper-sc-__sc-1iqvn14-2.gTeqw.ProductPricestyles__PriceWrapper-sc-__sc-1779phz-0.cyYKsv >             p.sc-jqUVSM.Pricestyles__DiscountPrice-sc-__sc-1iqvn14-1.cZBwWq.fACuYc\"}\n  (Session info: chrome=112.0.5615.138)\nStacktrace:\nBacktrace:\n\tGetHandleVerifier [0x00E4DCE3+50899]\n\t(No symbol) [0x00DDE111]\n\t(No symbol) [0x00CE5588]\n\t(No symbol) [0x00D108F9]\n\t(No symbol) [0x00D10AFB]\n\t(No symbol) [0x00D3F902]\n\t(No symbol) [0x00D2B944]\n\t(No symbol) [0x00D3E01C]\n\t(No symbol) [0x00D2B6F6]\n\t(No symbol) [0x00D07708]\n\t(No symbol) [0x00D0886D]\n\tGetHandleVerifier [0x010B3EAE+2566302]\n\tGetHandleVerifier [0x010E92B1+2784417]\n\tGetHandleVerifier [0x010E327C+2759788]\n\tGetHandleVerifier [0x00EE5740+672048]\n\t(No symbol) [0x00DE8872]\n\t(No symbol) [0x00DE41C8]\n\t(No symbol) [0x00DE42AB]\n\t(No symbol) [0x00DD71B7]\n\tBaseThreadInitThunk [0x758A7D49+25]\n\tRtlInitializeExceptionChain [0x77A1B74B+107]\n\tRtlClearBits [0x77A1B6CF+191]\n",
      "\nDuring handling of the above exception, another exception occurred:\n",
      "\u001b[1;31mNameError\u001b[0m                                 Traceback (most recent call last)",
      "\u001b[1;32m~\\AppData\\Local\\Temp\\ipykernel_28460\\498822916.py\u001b[0m in \u001b[0;36m<module>\u001b[1;34m\u001b[0m\n\u001b[0;32m     31\u001b[0m         \u001b[0mupdated_price\u001b[0m \u001b[1;33m=\u001b[0m \u001b[0mdriver\u001b[0m\u001b[1;33m.\u001b[0m\u001b[0mfind_element\u001b[0m\u001b[1;33m(\u001b[0m\u001b[0mBy\u001b[0m\u001b[1;33m.\u001b[0m\u001b[0mCSS_SELECTOR\u001b[0m\u001b[1;33m,\u001b[0m \u001b[0mupdated_price_loc\u001b[0m\u001b[1;33m)\u001b[0m\u001b[1;33m.\u001b[0m\u001b[0mtext\u001b[0m\u001b[1;33m\u001b[0m\u001b[1;33m\u001b[0m\u001b[0m\n\u001b[0;32m     32\u001b[0m     \u001b[1;32mexcept\u001b[0m\u001b[1;33m:\u001b[0m\u001b[1;33m\u001b[0m\u001b[1;33m\u001b[0m\u001b[0m\n\u001b[1;32m---> 33\u001b[1;33m         \u001b[0mupdated_price\u001b[0m \u001b[1;33m=\u001b[0m \u001b[0mprice\u001b[0m\u001b[1;33m\u001b[0m\u001b[1;33m\u001b[0m\u001b[0m\n\u001b[0m\u001b[0;32m     34\u001b[0m \u001b[1;33m\u001b[0m\u001b[0m\n\u001b[0;32m     35\u001b[0m     \u001b[0mdf\u001b[0m \u001b[1;33m=\u001b[0m \u001b[0mpd\u001b[0m\u001b[1;33m.\u001b[0m\u001b[0mread_html\u001b[0m\u001b[1;33m(\u001b[0m\u001b[0mlink\u001b[0m\u001b[1;33m)\u001b[0m\u001b[1;33m[\u001b[0m\u001b[1;36m0\u001b[0m\u001b[1;33m]\u001b[0m\u001b[1;33m.\u001b[0m\u001b[0mtranspose\u001b[0m\u001b[1;33m(\u001b[0m\u001b[1;33m)\u001b[0m\u001b[1;33m\u001b[0m\u001b[1;33m\u001b[0m\u001b[0m\n",
      "\u001b[1;31mNameError\u001b[0m: name 'price' is not defined"
     ]
    }
   ],
   "source": [
    "driver = webdriver.Chrome(executable_path=\"path\")\n",
    "driver.maximize_window()\n",
    "driver.implicitly_wait(10)\n",
    "                 \n",
    "df = pd.DataFrame(columns = ['name', 'size', 'price', 'brand', 'condition', 'date', 'status'])\n",
    "\n",
    "name_loc = \"#main > div.styles__Layout-sc-__sc-1fk4zep-4.eKcMRq > div.styles__ContentWrapper-sc-__sc-1fk4zep-5.dEyJOo > \\\n",
    "            div.ProductDetailsStickystyles__Wrapper-sc-__sc-17vfpzd-0.kGulyK.styles__StyledProductDetailsSticky-sc-__sc-1fk4zep-17.bqduPe > h1\"\n",
    "price_loc = \"#main > div.styles__Layout-sc-__sc-1fk4zep-4.eKcMRq > div.styles__ContentWrapper-sc-__sc-1fk4zep-5.dEyJOo > \\\n",
    "            div.ProductDetailsStickystyles__Wrapper-sc-__sc-17vfpzd-0.kGulyK.styles__StyledProductDetailsSticky-sc-__sc-1fk4zep-17.bqduPe > \\\n",
    "            div.ProductDetailsStickystyles__StyledProductPrice-sc-__sc-17vfpzd-4.kxMXFh > div > p\"\n",
    "updated_price_loc = '#main > div.styles__Layout-sc-__sc-1fk4zep-4.eKcMRq > div.styles__ContentWrapper-sc-__sc-1fk4zep-5.dEyJOo > \\\n",
    "            div.ProductDetailsStickystyles__Wrapper-sc-__sc-17vfpzd-0.kGulyK.styles__StyledProductDetailsSticky-sc-__sc-1fk4zep-17.bqduPe > \\\n",
    "            div.ProductDetailsStickystyles__StyledProductPrice-sc-__sc-17vfpzd-4.kxMXFh > div.Pricestyles__PriceWithDiscountWrapper-sc-__sc-1iqvn14-2.gTeqw.ProductPricestyles__PriceWrapper-sc-__sc-1779phz-0.cyYKsv > \\\n",
    "            p.sc-jqUVSM.Pricestyles__DiscountPrice-sc-__sc-1iqvn14-1.cZBwWq.fACuYc'\n",
    "likes_loc = \"#main > div.styles__Layout-sc-__sc-1fk4zep-4.eKcMRq > div.styles__ContentWrapper-sc-__sc-1fk4zep-5.dEyJOo > \\\n",
    "            div.ProductInteractionstyles__ProductInteractionContainer-sc-__sc-1uq597j-0.bjfZWT.styles__StyledProductInteraction-sc-__sc-1fk4zep-13.ghsBcq > span\"\n",
    "sold_loc = \"#main > div.styles__Layout-sc-__sc-1fk4zep-4.eKcMRq > div.styles__ContentWrapper-sc-__sc-1fk4zep-5.dEyJOo > \\\n",
    "            div.ProductDetailsStickystyles__Wrapper-sc-__sc-17vfpzd-0.kGulyK.styles__StyledProductDetailsSticky-sc-__sc-1fk4zep-17.bqduPe > \\\n",
    "            div.ProductDetailsStickystyles__DesktopProductPurchase-sc-__sc-17vfpzd-8.cfnIfB > button\"\n",
    "\n",
    "\n",
    "for link in links:\n",
    "    driver.get(link)\n",
    "    name = driver.find_element(By.CSS_SELECTOR, name_loc).text\n",
    "    holder = ['Evan' if '*' in name else 'Sean'][0]\n",
    "    likes = driver.find_element(By.CSS_SELECTOR, likes_loc).text\n",
    "    likes = likes.split()[0]\n",
    "    original_price = driver.find_element(By.CSS_SELECTOR, price_loc).text\n",
    "    try:\n",
    "        updated_price = driver.find_element(By.CSS_SELECTOR, updated_price_loc).text\n",
    "    except:\n",
    "        updated_price = price\n",
    "    \n",
    "    df = pd.read_html(link)[0].transpose()\n",
    "    df.columns = df.iloc[0]\n",
    "    df = df.tail(-1)\n",
    "    \n",
    "    try:\n",
    "        size = df['Size'].values[0]\n",
    "    except:\n",
    "        size = ''\n",
    "    try:\n",
    "        brand = df['Brand'].values[0]\n",
    "    except:\n",
    "        brand = ''\n",
    "    try:\n",
    "        condition = df['Condition'].values[0]\n",
    "    except:\n",
    "        condition = ''\n",
    "    try:\n",
    "        style = df['Style'].values[0]\n",
    "    except:\n",
    "        style = ''\n",
    "    \n",
    "    try:\n",
    "        if driver.find_element(By.CSS_SELECTOR, sold_loc):\n",
    "            status = 'Sold'\n",
    "            depop_fee = re.sub('[^A-Za-z0-9]+', '', updated_price) * 0.1\n",
    "            net_profit = re.sub('[^A-Za-z0-9]+', '', updated_price) - depop_fee\n",
    "    except:\n",
    "        status = 'Active' \n",
    "        depop_fee = ''\n",
    "        net_profit = ''\n",
    "    \n",
    "    #date_posted = \n",
    "    #date_sold = \n",
    "    #payment_method = \n",
    "    print(f'name = {name}')\n",
    "    print(f'likes = {likes}')\n",
    "    print(f'price = {price}')\n",
    "    print(f'depop_fee = {depop_fee}')\n",
    "    print(f'net_profit = {net_profit}')\n",
    "    print(f'updated_price = {updated_price}')\n",
    "    print(f'holder = {holder}')\n",
    "    print(f'size = {size}')\n",
    "    print(f'brand = {brand}')\n",
    "    print(f'condition = {condition}')\n",
    "    print(f'style = {style}')\n",
    "    print(f'status = {status}')"
   ]
  },
  {
   "cell_type": "code",
   "execution_count": null,
   "id": "e55d58ce-451a-4ff5-988d-165e0c7cc873",
   "metadata": {},
   "outputs": [],
   "source": []
  }
 ],
 "metadata": {
  "kernelspec": {
   "display_name": "Python 3 (ipykernel)",
   "language": "python",
   "name": "python3"
  },
  "language_info": {
   "codemirror_mode": {
    "name": "ipython",
    "version": 3
   },
   "file_extension": ".py",
   "mimetype": "text/x-python",
   "name": "python",
   "nbconvert_exporter": "python",
   "pygments_lexer": "ipython3",
   "version": "3.9.13"
  }
 },
 "nbformat": 4,
 "nbformat_minor": 5
}
