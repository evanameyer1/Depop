{
 "cells": [
  {
   "cell_type": "code",
   "execution_count": 24,
   "id": "478bd5af-8ba2-443d-9313-2d76048f3c0c",
   "metadata": {},
   "outputs": [],
   "source": [
    "import pandas as pd\n",
    "import re\n",
    "from re import match\n",
    "import requests\n",
    "import difflib\n",
    "import numpy as np\n",
    "import math\n",
    "from selenium import webdriver\n",
    "import time\n",
    "from selenium.common.exceptions import StaleElementReferenceException\n",
    "from selenium.webdriver.common.by import By\n",
    "from selenium.webdriver.common.action_chains import ActionChains"
   ]
  },
  {
   "cell_type": "markdown",
   "id": "e8cb144b-c4bd-49e6-9652-c0510e41a6d4",
   "metadata": {},
   "source": [
    "1. Go to depop account website\n",
    "2. Max click load more to gather all the items\n",
    "3. Click on each item\n",
    "4. Set local variables each to things and add them to the df"
   ]
  },
  {
   "cell_type": "code",
   "execution_count": 2,
   "id": "cee86949-a4e4-4c8d-b0bf-5d0d8e462466",
   "metadata": {},
   "outputs": [],
   "source": [
    "account = 'https://www.depop.com/binsbundles/'"
   ]
  },
  {
   "cell_type": "code",
   "execution_count": 42,
   "id": "c7c73cb5-a478-4099-a111-4f3f2b022497",
   "metadata": {
    "tags": []
   },
   "outputs": [
    {
     "name": "stderr",
     "output_type": "stream",
     "text": [
      "C:\\Users\\evana\\AppData\\Local\\Temp\\ipykernel_23168\\339186709.py:2: DeprecationWarning: executable_path has been deprecated, please pass in a Service object\n",
      "  driver = webdriver.Chrome(executable_path=\"path\")\n"
     ]
    }
   ],
   "source": [
    "#navigate to the depop account page\n",
    "driver = webdriver.Chrome(executable_path=\"path\")\n",
    "driver.maximize_window()\n",
    "driver.implicitly_wait(10)\n",
    "driver.get(account)\n",
    "\n",
    "#account for cookies popup button\n",
    "driver.find_element(By.CSS_SELECTOR, '#__next > div > div.sc-kLLXSd.ewUPBB > div.sc-jIZahH.jtDGoQ > button.sc-kDDrLX.sc-iqcoie.sc-cCsOjp.jNsXur.edBKPF.iDnRbj').click()\n",
    "\n",
    "#max click load more button to gather all the items   \n",
    "if driver.find_element(By.CSS_SELECTOR, '#products-tab > div > div > button'):\n",
    "    driver.execute_script(\"window.scrollTo(0,document.body.scrollHeight)\")\n",
    "    load_more = driver.find_element(By.CSS_SELECTOR, '#products-tab > div > div > button')\n",
    "    actions = ActionChains(driver)\n",
    "    actions.move_to_element(load_more).click().perform()\n",
    "    driver.implicitly_wait(1)\n",
    "else:\n",
    "    print('done')\n",
    "    \n",
    "#grab all of the links of the items\n",
    "#lnks = driver.find_elements(By.TAG_NAME, \"a\")\n",
    "#print(lnks)"
   ]
  },
  {
   "cell_type": "code",
   "execution_count": 15,
   "id": "40df0fab-6a48-4d97-a6bb-e6eee461dbe9",
   "metadata": {
    "collapsed": true,
    "jupyter": {
     "outputs_hidden": true
    },
    "tags": []
   },
   "outputs": [
    {
     "ename": "ElementClickInterceptedException",
     "evalue": "Message: element click intercepted: Element <button class=\"sc-gFGZVQ ewexUW\">...</button> is not clickable at point (1271, 1300). Other element would receive the click: <div width=\"full\" class=\"Container-sc-__sc-1t5af73-0 styles__FooterContainer-sc-__uaxwvs-1 cOcDhs jDHoKs\">...</div>\n  (Session info: chrome=112.0.5615.137)\nStacktrace:\nBacktrace:\n\tGetHandleVerifier [0x00CFDCE3+50899]\n\t(No symbol) [0x00C8E111]\n\t(No symbol) [0x00B95588]\n\t(No symbol) [0x00BC5A7A]\n\t(No symbol) [0x00BC4336]\n\t(No symbol) [0x00BC267B]\n\t(No symbol) [0x00BC1797]\n\t(No symbol) [0x00BB94A5]\n\t(No symbol) [0x00BDB8FC]\n\t(No symbol) [0x00BB8EC6]\n\t(No symbol) [0x00BDBC54]\n\t(No symbol) [0x00BEE01C]\n\t(No symbol) [0x00BDB6F6]\n\t(No symbol) [0x00BB7708]\n\t(No symbol) [0x00BB886D]\n\tGetHandleVerifier [0x00F63EAE+2566302]\n\tGetHandleVerifier [0x00F992B1+2784417]\n\tGetHandleVerifier [0x00F9327C+2759788]\n\tGetHandleVerifier [0x00D95740+672048]\n\t(No symbol) [0x00C98872]\n\t(No symbol) [0x00C941C8]\n\t(No symbol) [0x00C942AB]\n\t(No symbol) [0x00C871B7]\n\tBaseThreadInitThunk [0x74E97D49+25]\n\tRtlInitializeExceptionChain [0x7715B74B+107]\n\tRtlClearBits [0x7715B6CF+191]\n",
     "output_type": "error",
     "traceback": [
      "\u001b[1;31m---------------------------------------------------------------------------\u001b[0m",
      "\u001b[1;31mElementClickInterceptedException\u001b[0m          Traceback (most recent call last)",
      "\u001b[1;32m~\\AppData\\Local\\Temp\\ipykernel_23168\\3256754185.py\u001b[0m in \u001b[0;36m<module>\u001b[1;34m\u001b[0m\n\u001b[0;32m      1\u001b[0m \u001b[1;31m#max click load more button to gather all the items\u001b[0m\u001b[1;33m\u001b[0m\u001b[1;33m\u001b[0m\u001b[0m\n\u001b[0;32m      2\u001b[0m \u001b[0mload_more\u001b[0m \u001b[1;33m=\u001b[0m \u001b[0mdriver\u001b[0m\u001b[1;33m.\u001b[0m\u001b[0mfind_element\u001b[0m\u001b[1;33m(\u001b[0m\u001b[0mBy\u001b[0m\u001b[1;33m.\u001b[0m\u001b[0mCSS_SELECTOR\u001b[0m\u001b[1;33m,\u001b[0m \u001b[1;34m'#products-tab > div > div > button'\u001b[0m\u001b[1;33m)\u001b[0m\u001b[1;33m\u001b[0m\u001b[1;33m\u001b[0m\u001b[0m\n\u001b[1;32m----> 3\u001b[1;33m \u001b[0mload_more\u001b[0m\u001b[1;33m.\u001b[0m\u001b[0mclick\u001b[0m\u001b[1;33m(\u001b[0m\u001b[1;33m)\u001b[0m\u001b[1;33m\u001b[0m\u001b[1;33m\u001b[0m\u001b[0m\n\u001b[0m",
      "\u001b[1;32m~\\anaconda3\\lib\\site-packages\\selenium\\webdriver\\remote\\webelement.py\u001b[0m in \u001b[0;36mclick\u001b[1;34m(self)\u001b[0m\n\u001b[0;32m     92\u001b[0m     \u001b[1;32mdef\u001b[0m \u001b[0mclick\u001b[0m\u001b[1;33m(\u001b[0m\u001b[0mself\u001b[0m\u001b[1;33m)\u001b[0m \u001b[1;33m->\u001b[0m \u001b[1;32mNone\u001b[0m\u001b[1;33m:\u001b[0m\u001b[1;33m\u001b[0m\u001b[1;33m\u001b[0m\u001b[0m\n\u001b[0;32m     93\u001b[0m         \u001b[1;34m\"\"\"Clicks the element.\"\"\"\u001b[0m\u001b[1;33m\u001b[0m\u001b[1;33m\u001b[0m\u001b[0m\n\u001b[1;32m---> 94\u001b[1;33m         \u001b[0mself\u001b[0m\u001b[1;33m.\u001b[0m\u001b[0m_execute\u001b[0m\u001b[1;33m(\u001b[0m\u001b[0mCommand\u001b[0m\u001b[1;33m.\u001b[0m\u001b[0mCLICK_ELEMENT\u001b[0m\u001b[1;33m)\u001b[0m\u001b[1;33m\u001b[0m\u001b[1;33m\u001b[0m\u001b[0m\n\u001b[0m\u001b[0;32m     95\u001b[0m \u001b[1;33m\u001b[0m\u001b[0m\n\u001b[0;32m     96\u001b[0m     \u001b[1;32mdef\u001b[0m \u001b[0msubmit\u001b[0m\u001b[1;33m(\u001b[0m\u001b[0mself\u001b[0m\u001b[1;33m)\u001b[0m\u001b[1;33m:\u001b[0m\u001b[1;33m\u001b[0m\u001b[1;33m\u001b[0m\u001b[0m\n",
      "\u001b[1;32m~\\anaconda3\\lib\\site-packages\\selenium\\webdriver\\remote\\webelement.py\u001b[0m in \u001b[0;36m_execute\u001b[1;34m(self, command, params)\u001b[0m\n\u001b[0;32m    402\u001b[0m             \u001b[0mparams\u001b[0m \u001b[1;33m=\u001b[0m \u001b[1;33m{\u001b[0m\u001b[1;33m}\u001b[0m\u001b[1;33m\u001b[0m\u001b[1;33m\u001b[0m\u001b[0m\n\u001b[0;32m    403\u001b[0m         \u001b[0mparams\u001b[0m\u001b[1;33m[\u001b[0m\u001b[1;34m\"id\"\u001b[0m\u001b[1;33m]\u001b[0m \u001b[1;33m=\u001b[0m \u001b[0mself\u001b[0m\u001b[1;33m.\u001b[0m\u001b[0m_id\u001b[0m\u001b[1;33m\u001b[0m\u001b[1;33m\u001b[0m\u001b[0m\n\u001b[1;32m--> 404\u001b[1;33m         \u001b[1;32mreturn\u001b[0m \u001b[0mself\u001b[0m\u001b[1;33m.\u001b[0m\u001b[0m_parent\u001b[0m\u001b[1;33m.\u001b[0m\u001b[0mexecute\u001b[0m\u001b[1;33m(\u001b[0m\u001b[0mcommand\u001b[0m\u001b[1;33m,\u001b[0m \u001b[0mparams\u001b[0m\u001b[1;33m)\u001b[0m\u001b[1;33m\u001b[0m\u001b[1;33m\u001b[0m\u001b[0m\n\u001b[0m\u001b[0;32m    405\u001b[0m \u001b[1;33m\u001b[0m\u001b[0m\n\u001b[0;32m    406\u001b[0m     \u001b[1;32mdef\u001b[0m \u001b[0mfind_element\u001b[0m\u001b[1;33m(\u001b[0m\u001b[0mself\u001b[0m\u001b[1;33m,\u001b[0m \u001b[0mby\u001b[0m\u001b[1;33m=\u001b[0m\u001b[0mBy\u001b[0m\u001b[1;33m.\u001b[0m\u001b[0mID\u001b[0m\u001b[1;33m,\u001b[0m \u001b[0mvalue\u001b[0m\u001b[1;33m=\u001b[0m\u001b[1;32mNone\u001b[0m\u001b[1;33m)\u001b[0m \u001b[1;33m->\u001b[0m \u001b[0mWebElement\u001b[0m\u001b[1;33m:\u001b[0m\u001b[1;33m\u001b[0m\u001b[1;33m\u001b[0m\u001b[0m\n",
      "\u001b[1;32m~\\anaconda3\\lib\\site-packages\\selenium\\webdriver\\remote\\webdriver.py\u001b[0m in \u001b[0;36mexecute\u001b[1;34m(self, driver_command, params)\u001b[0m\n\u001b[0;32m    438\u001b[0m         \u001b[0mresponse\u001b[0m \u001b[1;33m=\u001b[0m \u001b[0mself\u001b[0m\u001b[1;33m.\u001b[0m\u001b[0mcommand_executor\u001b[0m\u001b[1;33m.\u001b[0m\u001b[0mexecute\u001b[0m\u001b[1;33m(\u001b[0m\u001b[0mdriver_command\u001b[0m\u001b[1;33m,\u001b[0m \u001b[0mparams\u001b[0m\u001b[1;33m)\u001b[0m\u001b[1;33m\u001b[0m\u001b[1;33m\u001b[0m\u001b[0m\n\u001b[0;32m    439\u001b[0m         \u001b[1;32mif\u001b[0m \u001b[0mresponse\u001b[0m\u001b[1;33m:\u001b[0m\u001b[1;33m\u001b[0m\u001b[1;33m\u001b[0m\u001b[0m\n\u001b[1;32m--> 440\u001b[1;33m             \u001b[0mself\u001b[0m\u001b[1;33m.\u001b[0m\u001b[0merror_handler\u001b[0m\u001b[1;33m.\u001b[0m\u001b[0mcheck_response\u001b[0m\u001b[1;33m(\u001b[0m\u001b[0mresponse\u001b[0m\u001b[1;33m)\u001b[0m\u001b[1;33m\u001b[0m\u001b[1;33m\u001b[0m\u001b[0m\n\u001b[0m\u001b[0;32m    441\u001b[0m             \u001b[0mresponse\u001b[0m\u001b[1;33m[\u001b[0m\u001b[1;34m\"value\"\u001b[0m\u001b[1;33m]\u001b[0m \u001b[1;33m=\u001b[0m \u001b[0mself\u001b[0m\u001b[1;33m.\u001b[0m\u001b[0m_unwrap_value\u001b[0m\u001b[1;33m(\u001b[0m\u001b[0mresponse\u001b[0m\u001b[1;33m.\u001b[0m\u001b[0mget\u001b[0m\u001b[1;33m(\u001b[0m\u001b[1;34m\"value\"\u001b[0m\u001b[1;33m,\u001b[0m \u001b[1;32mNone\u001b[0m\u001b[1;33m)\u001b[0m\u001b[1;33m)\u001b[0m\u001b[1;33m\u001b[0m\u001b[1;33m\u001b[0m\u001b[0m\n\u001b[0;32m    442\u001b[0m             \u001b[1;32mreturn\u001b[0m \u001b[0mresponse\u001b[0m\u001b[1;33m\u001b[0m\u001b[1;33m\u001b[0m\u001b[0m\n",
      "\u001b[1;32m~\\anaconda3\\lib\\site-packages\\selenium\\webdriver\\remote\\errorhandler.py\u001b[0m in \u001b[0;36mcheck_response\u001b[1;34m(self, response)\u001b[0m\n\u001b[0;32m    243\u001b[0m                 \u001b[0malert_text\u001b[0m \u001b[1;33m=\u001b[0m \u001b[0mvalue\u001b[0m\u001b[1;33m[\u001b[0m\u001b[1;34m\"alert\"\u001b[0m\u001b[1;33m]\u001b[0m\u001b[1;33m.\u001b[0m\u001b[0mget\u001b[0m\u001b[1;33m(\u001b[0m\u001b[1;34m\"text\"\u001b[0m\u001b[1;33m)\u001b[0m\u001b[1;33m\u001b[0m\u001b[1;33m\u001b[0m\u001b[0m\n\u001b[0;32m    244\u001b[0m             \u001b[1;32mraise\u001b[0m \u001b[0mexception_class\u001b[0m\u001b[1;33m(\u001b[0m\u001b[0mmessage\u001b[0m\u001b[1;33m,\u001b[0m \u001b[0mscreen\u001b[0m\u001b[1;33m,\u001b[0m \u001b[0mstacktrace\u001b[0m\u001b[1;33m,\u001b[0m \u001b[0malert_text\u001b[0m\u001b[1;33m)\u001b[0m  \u001b[1;31m# type: ignore[call-arg]  # mypy is not smart enough here\u001b[0m\u001b[1;33m\u001b[0m\u001b[1;33m\u001b[0m\u001b[0m\n\u001b[1;32m--> 245\u001b[1;33m         \u001b[1;32mraise\u001b[0m \u001b[0mexception_class\u001b[0m\u001b[1;33m(\u001b[0m\u001b[0mmessage\u001b[0m\u001b[1;33m,\u001b[0m \u001b[0mscreen\u001b[0m\u001b[1;33m,\u001b[0m \u001b[0mstacktrace\u001b[0m\u001b[1;33m)\u001b[0m\u001b[1;33m\u001b[0m\u001b[1;33m\u001b[0m\u001b[0m\n\u001b[0m",
      "\u001b[1;31mElementClickInterceptedException\u001b[0m: Message: element click intercepted: Element <button class=\"sc-gFGZVQ ewexUW\">...</button> is not clickable at point (1271, 1300). Other element would receive the click: <div width=\"full\" class=\"Container-sc-__sc-1t5af73-0 styles__FooterContainer-sc-__uaxwvs-1 cOcDhs jDHoKs\">...</div>\n  (Session info: chrome=112.0.5615.137)\nStacktrace:\nBacktrace:\n\tGetHandleVerifier [0x00CFDCE3+50899]\n\t(No symbol) [0x00C8E111]\n\t(No symbol) [0x00B95588]\n\t(No symbol) [0x00BC5A7A]\n\t(No symbol) [0x00BC4336]\n\t(No symbol) [0x00BC267B]\n\t(No symbol) [0x00BC1797]\n\t(No symbol) [0x00BB94A5]\n\t(No symbol) [0x00BDB8FC]\n\t(No symbol) [0x00BB8EC6]\n\t(No symbol) [0x00BDBC54]\n\t(No symbol) [0x00BEE01C]\n\t(No symbol) [0x00BDB6F6]\n\t(No symbol) [0x00BB7708]\n\t(No symbol) [0x00BB886D]\n\tGetHandleVerifier [0x00F63EAE+2566302]\n\tGetHandleVerifier [0x00F992B1+2784417]\n\tGetHandleVerifier [0x00F9327C+2759788]\n\tGetHandleVerifier [0x00D95740+672048]\n\t(No symbol) [0x00C98872]\n\t(No symbol) [0x00C941C8]\n\t(No symbol) [0x00C942AB]\n\t(No symbol) [0x00C871B7]\n\tBaseThreadInitThunk [0x74E97D49+25]\n\tRtlInitializeExceptionChain [0x7715B74B+107]\n\tRtlClearBits [0x7715B6CF+191]\n"
     ]
    }
   ],
   "source": [
    "#max click load more button to gather all the items\n",
    "load_more = driver.find_element(By.CSS_SELECTOR, '#products-tab > div > div > button')\n",
    "load_more.click()"
   ]
  },
  {
   "cell_type": "code",
   "execution_count": null,
   "id": "bf54966f-69b3-48b8-9e94-ae62bc9740e5",
   "metadata": {},
   "outputs": [],
   "source": [
    "items = pd.DataFrame(columns = ['item'])"
   ]
  },
  {
   "cell_type": "code",
   "execution_count": null,
   "id": "c1e31e06-f732-4b08-b0d7-0134de41250e",
   "metadata": {},
   "outputs": [],
   "source": [
    "items"
   ]
  },
  {
   "cell_type": "code",
   "execution_count": null,
   "id": "56a681b3-17d4-46ef-8304-c72e6240c6d5",
   "metadata": {},
   "outputs": [],
   "source": [
    "\n",
    "clothes = driver.find_elements_by_class_name(\"card__detailsContainer\")\n",
    "for rec in receipes:\n",
    "    name = rec.find_element_by_tag_name(\"h3\").get_attribute(\"innerText\")\n",
    "    print(name)"
   ]
  },
  {
   "cell_type": "code",
   "execution_count": null,
   "id": "3c6aad2c-ed1a-43f5-b01d-a4dc4c509ffa",
   "metadata": {},
   "outputs": [],
   "source": [
    "#pagination with the 'load more' button\n",
    "loadmore = driver.find_element_by_id(\"category-page-list-related-load-more-button\")\n",
    "j = 0\n",
    "try:\n",
    "    while loadmore.is_displayed():\n",
    "        loadmore.click()\n",
    "        time.sleep(5)\n",
    "        lrec = driver.find_elements_by_class_name(\"recipeCard__detailsContainer\")\n",
    "        newlist = lrec[j:]\n",
    "        for rec in newlist:\n",
    "            name = rec.find_element_by_tag_name(\"h3\").get_attribute(\"innerText\")\n",
    "            print(name)\n",
    "        j = len(lrec)+1\n",
    "        time.sleep(5)\n",
    "except StaleElementReferenceException:\n",
    "    pass\n",
    "driver.quit()"
   ]
  }
 ],
 "metadata": {
  "kernelspec": {
   "display_name": "Python 3 (ipykernel)",
   "language": "python",
   "name": "python3"
  },
  "language_info": {
   "codemirror_mode": {
    "name": "ipython",
    "version": 3
   },
   "file_extension": ".py",
   "mimetype": "text/x-python",
   "name": "python",
   "nbconvert_exporter": "python",
   "pygments_lexer": "ipython3",
   "version": "3.9.13"
  }
 },
 "nbformat": 4,
 "nbformat_minor": 5
}
